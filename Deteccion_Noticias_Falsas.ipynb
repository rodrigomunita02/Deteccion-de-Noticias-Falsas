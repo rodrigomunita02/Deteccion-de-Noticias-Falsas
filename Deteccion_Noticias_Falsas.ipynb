{
  "nbformat": 4,
  "nbformat_minor": 0,
  "metadata": {
    "colab": {
      "provenance": []
    },
    "kernelspec": {
      "name": "python3",
      "display_name": "Python 3"
    },
    "language_info": {
      "name": "python"
    }
  },
  "cells": [
    {
      "cell_type": "code",
      "execution_count": 33,
      "metadata": {
        "id": "fdqwsVmzIqs3"
      },
      "outputs": [],
      "source": [
        "import pandas as pd\n",
        "import nltk\n",
        "import re\n",
        "from nltk.corpus import stopwords\n",
        "from nltk.stem.porter import PorterStemmer\n",
        "from sklearn.feature_extraction.text import TfidfVectorizer\n",
        "from sklearn.model_selection import train_test_split\n",
        "from sklearn.linear_model import LogisticRegression\n",
        "from sklearn.metrics import accuracy_score\n",
        "from sklearn.metrics import confusion_matrix\n",
        "from sklearn.metrics import classification_report\n",
        "from sklearn.model_selection import cross_val_score"
      ]
    },
    {
      "cell_type": "markdown",
      "source": [
        "# **Lectura De Datos**"
      ],
      "metadata": {
        "id": "n-xXpxVjqU2M"
      }
    },
    {
      "cell_type": "code",
      "source": [
        "df = pd.read_csv('Fake_News.csv')\n",
        "df.info()"
      ],
      "metadata": {
        "colab": {
          "base_uri": "https://localhost:8080/"
        },
        "id": "f4A7SQnWqdov",
        "outputId": "a4b91639-b6b2-4a34-c516-97745ec9aa3c"
      },
      "execution_count": 7,
      "outputs": [
        {
          "output_type": "stream",
          "name": "stdout",
          "text": [
            "<class 'pandas.core.frame.DataFrame'>\n",
            "RangeIndex: 20800 entries, 0 to 20799\n",
            "Data columns (total 5 columns):\n",
            " #   Column  Non-Null Count  Dtype \n",
            "---  ------  --------------  ----- \n",
            " 0   id      20800 non-null  int64 \n",
            " 1   title   20242 non-null  object\n",
            " 2   author  18843 non-null  object\n",
            " 3   text    20761 non-null  object\n",
            " 4   label   20800 non-null  int64 \n",
            "dtypes: int64(2), object(3)\n",
            "memory usage: 812.6+ KB\n"
          ]
        }
      ]
    },
    {
      "cell_type": "markdown",
      "source": [
        "# **Limpieza De Datos**"
      ],
      "metadata": {
        "id": "t6OK8Kpiqev7"
      }
    },
    {
      "cell_type": "markdown",
      "source": [
        "viendo la cantidad de valores nulos"
      ],
      "metadata": {
        "id": "UJ9fvNaRsgbe"
      }
    },
    {
      "cell_type": "code",
      "source": [
        "df.isna().sum()"
      ],
      "metadata": {
        "id": "OY34vxP_sgG4",
        "colab": {
          "base_uri": "https://localhost:8080/"
        },
        "outputId": "15db1c7c-c9c3-4031-f473-5d7710efbd9f"
      },
      "execution_count": 8,
      "outputs": [
        {
          "output_type": "execute_result",
          "data": {
            "text/plain": [
              "id           0\n",
              "title      558\n",
              "author    1957\n",
              "text        39\n",
              "label        0\n",
              "dtype: int64"
            ]
          },
          "metadata": {},
          "execution_count": 8
        }
      ]
    },
    {
      "cell_type": "code",
      "source": [
        "df = df.fillna('')"
      ],
      "metadata": {
        "id": "iFDAMombssXf"
      },
      "execution_count": 9,
      "outputs": []
    },
    {
      "cell_type": "markdown",
      "source": [
        "eliminando la columna id"
      ],
      "metadata": {
        "id": "AKC7eSkeYvfh"
      }
    },
    {
      "cell_type": "code",
      "source": [
        "df.drop('id', axis=1, inplace=True)"
      ],
      "metadata": {
        "id": "Kl5gkx7gYzGa"
      },
      "execution_count": 10,
      "outputs": []
    },
    {
      "cell_type": "markdown",
      "source": [
        "# **Preparacion De Datos**"
      ],
      "metadata": {
        "id": "epp6aW-_CinP"
      }
    },
    {
      "cell_type": "code",
      "source": [
        "nltk.download('stopwords')"
      ],
      "metadata": {
        "id": "ZLBVWFLuppB9",
        "colab": {
          "base_uri": "https://localhost:8080/"
        },
        "outputId": "94d62a12-5609-4b41-b26d-5aea90e2f3e4"
      },
      "execution_count": 11,
      "outputs": [
        {
          "output_type": "stream",
          "name": "stderr",
          "text": [
            "[nltk_data] Downloading package stopwords to /root/nltk_data...\n",
            "[nltk_data]   Unzipping corpora/stopwords.zip.\n"
          ]
        },
        {
          "output_type": "execute_result",
          "data": {
            "text/plain": [
              "True"
            ]
          },
          "metadata": {},
          "execution_count": 11
        }
      ]
    },
    {
      "cell_type": "markdown",
      "source": [
        "imprimiendo las palabras vacías en inglés"
      ],
      "metadata": {
        "id": "Bo6A7A2opyyF"
      }
    },
    {
      "cell_type": "code",
      "source": [
        "print(stopwords.words('english'))"
      ],
      "metadata": {
        "id": "FpTV2LzMpzVw",
        "colab": {
          "base_uri": "https://localhost:8080/"
        },
        "outputId": "8d855d58-3183-4506-b7ed-bc547a052047"
      },
      "execution_count": 12,
      "outputs": [
        {
          "output_type": "stream",
          "name": "stdout",
          "text": [
            "['i', 'me', 'my', 'myself', 'we', 'our', 'ours', 'ourselves', 'you', \"you're\", \"you've\", \"you'll\", \"you'd\", 'your', 'yours', 'yourself', 'yourselves', 'he', 'him', 'his', 'himself', 'she', \"she's\", 'her', 'hers', 'herself', 'it', \"it's\", 'its', 'itself', 'they', 'them', 'their', 'theirs', 'themselves', 'what', 'which', 'who', 'whom', 'this', 'that', \"that'll\", 'these', 'those', 'am', 'is', 'are', 'was', 'were', 'be', 'been', 'being', 'have', 'has', 'had', 'having', 'do', 'does', 'did', 'doing', 'a', 'an', 'the', 'and', 'but', 'if', 'or', 'because', 'as', 'until', 'while', 'of', 'at', 'by', 'for', 'with', 'about', 'against', 'between', 'into', 'through', 'during', 'before', 'after', 'above', 'below', 'to', 'from', 'up', 'down', 'in', 'out', 'on', 'off', 'over', 'under', 'again', 'further', 'then', 'once', 'here', 'there', 'when', 'where', 'why', 'how', 'all', 'any', 'both', 'each', 'few', 'more', 'most', 'other', 'some', 'such', 'no', 'nor', 'not', 'only', 'own', 'same', 'so', 'than', 'too', 'very', 's', 't', 'can', 'will', 'just', 'don', \"don't\", 'should', \"should've\", 'now', 'd', 'll', 'm', 'o', 're', 've', 'y', 'ain', 'aren', \"aren't\", 'couldn', \"couldn't\", 'didn', \"didn't\", 'doesn', \"doesn't\", 'hadn', \"hadn't\", 'hasn', \"hasn't\", 'haven', \"haven't\", 'isn', \"isn't\", 'ma', 'mightn', \"mightn't\", 'mustn', \"mustn't\", 'needn', \"needn't\", 'shan', \"shan't\", 'shouldn', \"shouldn't\", 'wasn', \"wasn't\", 'weren', \"weren't\", 'won', \"won't\", 'wouldn', \"wouldn't\"]\n"
          ]
        }
      ]
    },
    {
      "cell_type": "markdown",
      "source": [
        "Dividiendo los datos"
      ],
      "metadata": {
        "id": "5yEdVAqPXnfZ"
      }
    },
    {
      "cell_type": "code",
      "source": [
        "X = df.drop(columns='label', axis=1)\n",
        "Y = df['label']"
      ],
      "metadata": {
        "id": "JHycpU-0Xrgi"
      },
      "execution_count": 13,
      "outputs": []
    },
    {
      "cell_type": "markdown",
      "source": [
        "unificando todo en una columna"
      ],
      "metadata": {
        "id": "2vYEHSmOjZNE"
      }
    },
    {
      "cell_type": "code",
      "source": [
        "X['news'] = X['author']+' '+X['title']+' '+X['text']"
      ],
      "metadata": {
        "id": "BUCJhKiIjX-Y"
      },
      "execution_count": 14,
      "outputs": []
    },
    {
      "cell_type": "markdown",
      "source": [
        "reducir las palabras a su base."
      ],
      "metadata": {
        "id": "lDJb-qPWysu2"
      }
    },
    {
      "cell_type": "code",
      "source": [
        "port_stem = PorterStemmer()\n",
        "def stemming(content):\n",
        "    stemmed_content = re.sub('[^a-zA-Z]',' ',content)\n",
        "    stemmed_content = stemmed_content.lower()\n",
        "    stemmed_content = stemmed_content.split()\n",
        "    stemmed_content = [port_stem.stem(word) for word in stemmed_content if not word in stopwords.words('english')]\n",
        "    stemmed_content = ' '.join(stemmed_content)\n",
        "    return stemmed_content"
      ],
      "metadata": {
        "id": "9SkQ7Cwex8iX"
      },
      "execution_count": 15,
      "outputs": []
    },
    {
      "cell_type": "code",
      "source": [
        "X['news'] = X['news'].apply(stemming)"
      ],
      "metadata": {
        "collapsed": true,
        "id": "wWkDFIKyyIHZ"
      },
      "execution_count": 16,
      "outputs": []
    },
    {
      "cell_type": "code",
      "source": [
        "X = X['news']"
      ],
      "metadata": {
        "id": "ZPzughyXvMO3"
      },
      "execution_count": 17,
      "outputs": []
    },
    {
      "cell_type": "markdown",
      "source": [
        "convertir texto en representacion nummerica"
      ],
      "metadata": {
        "id": "1Kl1d6Cu6Jn5"
      }
    },
    {
      "cell_type": "code",
      "source": [
        "vectorizer = TfidfVectorizer()\n",
        "vectorizer.fit(X)\n",
        "\n",
        "X = vectorizer.transform(X)"
      ],
      "metadata": {
        "id": "kUGBhqRCvjm6"
      },
      "execution_count": 18,
      "outputs": []
    },
    {
      "cell_type": "code",
      "source": [
        "print(X)"
      ],
      "metadata": {
        "id": "ZJJCSRud6T-r",
        "colab": {
          "base_uri": "https://localhost:8080/"
        },
        "outputId": "594025f5-2104-44dc-97ea-c5735908d0bb"
      },
      "execution_count": 19,
      "outputs": [
        {
          "output_type": "stream",
          "name": "stdout",
          "text": [
            "  (0, 109752)\t0.049158312425168854\n",
            "  (0, 109697)\t0.0190646711515277\n",
            "  (0, 108742)\t0.04416544119908134\n",
            "  (0, 108738)\t0.09477494042884232\n",
            "  (0, 108695)\t0.03758488097939004\n",
            "  (0, 108658)\t0.01130614774071694\n",
            "  (0, 108007)\t0.017092546683505856\n",
            "  (0, 107190)\t0.017105936674103112\n",
            "  (0, 107099)\t0.012543234221230963\n",
            "  (0, 107013)\t0.029126417104928328\n",
            "  (0, 106934)\t0.012863319680563097\n",
            "  (0, 106734)\t0.011771716334271506\n",
            "  (0, 105884)\t0.025727197929110487\n",
            "  (0, 105848)\t0.031296701378124764\n",
            "  (0, 104837)\t0.02153649554212262\n",
            "  (0, 103422)\t0.06544555398259812\n",
            "  (0, 102736)\t0.03314918847150756\n",
            "  (0, 102485)\t0.01639612818098454\n",
            "  (0, 101717)\t0.038071924979380216\n",
            "  (0, 101077)\t0.011082403436475742\n",
            "  (0, 101067)\t0.0432044670628921\n",
            "  (0, 101014)\t0.13602128375819167\n",
            "  (0, 100866)\t0.0713092337063475\n",
            "  (0, 99577)\t0.03944988916619374\n",
            "  (0, 99009)\t0.027120358929731154\n",
            "  :\t:\n",
            "  (20799, 7470)\t0.010635431711878486\n",
            "  (20799, 7143)\t0.02816704434978389\n",
            "  (20799, 6848)\t0.03959171777516513\n",
            "  (20799, 6810)\t0.025365585564187044\n",
            "  (20799, 6530)\t0.0423980387875893\n",
            "  (20799, 6084)\t0.0315457284306667\n",
            "  (20799, 5872)\t0.04632206994759717\n",
            "  (20799, 5517)\t0.024097152410748182\n",
            "  (20799, 5242)\t0.045417670739832466\n",
            "  (20799, 3271)\t0.03446674804290047\n",
            "  (20799, 3042)\t0.05007515404726805\n",
            "  (20799, 2955)\t0.015323407277242013\n",
            "  (20799, 2713)\t0.047800235719237465\n",
            "  (20799, 2294)\t0.08924712342400702\n",
            "  (20799, 1997)\t0.023153895918351708\n",
            "  (20799, 1995)\t0.029380105887880807\n",
            "  (20799, 1952)\t0.03330998179427733\n",
            "  (20799, 1886)\t0.033768770862532556\n",
            "  (20799, 1027)\t0.01893705656098481\n",
            "  (20799, 903)\t0.038248338479231606\n",
            "  (20799, 873)\t0.013807510861685218\n",
            "  (20799, 815)\t0.041753611202768166\n",
            "  (20799, 559)\t0.024511273226368112\n",
            "  (20799, 323)\t0.015366447869656087\n",
            "  (20799, 305)\t0.019031597510308154\n"
          ]
        }
      ]
    },
    {
      "cell_type": "markdown",
      "source": [
        "separando los datos de entreno y prueba"
      ],
      "metadata": {
        "id": "qBcGawM46rrK"
      }
    },
    {
      "cell_type": "code",
      "source": [
        "X_train, X_test, y_train , y_test = train_test_split(X, Y, test_size = 0.2, stratify=Y, random_state=2)"
      ],
      "metadata": {
        "id": "0eBL7uSJ6YEW"
      },
      "execution_count": 20,
      "outputs": []
    },
    {
      "cell_type": "markdown",
      "source": [
        "creando y ejecutando el modelo"
      ],
      "metadata": {
        "id": "SlfyVT998g4j"
      }
    },
    {
      "cell_type": "code",
      "source": [
        "LR = LogisticRegression()\n",
        "LR.fit(X_train,y_train)\n",
        "y_pred = LR.predict(X_test)"
      ],
      "metadata": {
        "id": "qEXqdvOW8MuS"
      },
      "execution_count": 21,
      "outputs": []
    },
    {
      "cell_type": "code",
      "source": [
        "y_pred"
      ],
      "metadata": {
        "id": "EglM_BeT8bdK",
        "colab": {
          "base_uri": "https://localhost:8080/"
        },
        "outputId": "c8a6218f-304b-4af4-a8fc-cda90de9d2ed"
      },
      "execution_count": 22,
      "outputs": [
        {
          "output_type": "execute_result",
          "data": {
            "text/plain": [
              "array([1, 0, 1, ..., 1, 0, 0])"
            ]
          },
          "metadata": {},
          "execution_count": 22
        }
      ]
    },
    {
      "cell_type": "markdown",
      "source": [
        "# **Analisis de la deteccion**"
      ],
      "metadata": {
        "id": "KnT0o0Tr5MrT"
      }
    },
    {
      "cell_type": "code",
      "source": [
        "accuracy = accuracy_score(y_test, y_pred)\n",
        "print(\"Accuracy:\", accuracy)\n",
        "print('\\n')\n",
        "conf_matrix = confusion_matrix(y_test, y_pred)\n",
        "print(\"Confusion Matrix:\\n\", conf_matrix)\n",
        "print('\\n')\n",
        "cross_val_scores = cross_val_score(LR, X, Y, cv=5)\n",
        "print(\"Cross-validation scores:\", cross_val_scores)  # Valores entre 0 y 1\n",
        "print(\"Mean cross-validation score:\", cross_val_scores.mean())"
      ],
      "metadata": {
        "id": "zp7PSX3TrFZd",
        "colab": {
          "base_uri": "https://localhost:8080/"
        },
        "outputId": "533ba7a7-04f3-4eeb-91b6-ccfa93296e6c"
      },
      "execution_count": 34,
      "outputs": [
        {
          "output_type": "stream",
          "name": "stdout",
          "text": [
            "Accuracy: 0.9543269230769231\n",
            "\n",
            "\n",
            "Confusion Matrix:\n",
            " [[1984   93]\n",
            " [  97 1986]]\n",
            "\n",
            "\n",
            "Cross-validation scores: [0.95889423 0.95625    0.95649038 0.95625    0.95841346]\n",
            "Mean cross-validation score: 0.9572596153846155\n"
          ]
        }
      ]
    }
  ]
}